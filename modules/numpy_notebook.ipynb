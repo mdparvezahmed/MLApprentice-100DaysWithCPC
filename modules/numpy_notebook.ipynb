{
 "cells": [
  {
   "cell_type": "code",
   "execution_count": 3,
   "id": "11b6c497",
   "metadata": {},
   "outputs": [],
   "source": [
    "import numpy as np"
   ]
  },
  {
   "cell_type": "code",
   "execution_count": 30,
   "id": "21b561c4",
   "metadata": {},
   "outputs": [
    {
     "name": "stdout",
     "output_type": "stream",
     "text": [
      "mat1\n",
      "[[59  0 80]\n",
      " [11 75 78]]\n",
      "mat2\n",
      "[[ 9 58]\n",
      " [72 88]\n",
      " [68 25]]\n"
     ]
    }
   ],
   "source": [
    "rng = np.random.default_rng()\n",
    "\n",
    "matrix1 = rng.integers(low=0, high= 100,size=(2,3))\n",
    "matrix2 = rng.integers(low=0, high= 100,size=(3,2))\n",
    "print(\"mat1\")\n",
    "print(matrix1)\n",
    "print(\"mat2\")\n",
    "print(matrix2)"
   ]
  },
  {
   "cell_type": "code",
   "execution_count": 35,
   "id": "61318668",
   "metadata": {},
   "outputs": [
    {
     "name": "stdout",
     "output_type": "stream",
     "text": [
      "[[ 1169  4350  5244]\n",
      " [ 5216  6600 12624]\n",
      " [ 4287  1875  7390]]\n"
     ]
    }
   ],
   "source": [
    "x = np.dot(matrix2,matrix1)\n",
    "print(x)"
   ]
  },
  {
   "cell_type": "code",
   "execution_count": 41,
   "id": "1ec29b31",
   "metadata": {},
   "outputs": [
    {
     "name": "stdout",
     "output_type": "stream",
     "text": [
      "[[50 16 55]\n",
      " [ 3 67 26]\n",
      " [68 92  3]]\n",
      "[[4350 1232 3740]\n",
      " [ 183 3551 2002]\n",
      " [2312 7268    6]]\n"
     ]
    }
   ],
   "source": [
    "matA = rng.integers(0,101, size=(3,3))\n",
    "matB = rng.integers(0,101, size=(3,3))\n",
    "print(matA)\n",
    "mmp = matA*matB\n",
    "print(mmp)"
   ]
  },
  {
   "cell_type": "code",
   "execution_count": 44,
   "id": "8d579f2e",
   "metadata": {},
   "outputs": [
    {
     "name": "stdout",
     "output_type": "stream",
     "text": [
      "[[50  3 68]\n",
      " [16 67 92]\n",
      " [55 26  3]]\n"
     ]
    }
   ],
   "source": [
    "transposeA = matA.T\n",
    "print(transposeA)"
   ]
  },
  {
   "cell_type": "code",
   "execution_count": 47,
   "id": "96f0f812",
   "metadata": {},
   "outputs": [
    {
     "name": "stdout",
     "output_type": "stream",
     "text": [
      "-316805.99999999994\n"
     ]
    }
   ],
   "source": [
    "det_A = np.linalg.det(matA)\n",
    "print(det_A)"
   ]
  },
  {
   "cell_type": "code",
   "execution_count": 52,
   "id": "34872bea",
   "metadata": {},
   "outputs": [
    {
     "name": "stdout",
     "output_type": "stream",
     "text": [
      "0.0\n"
     ]
    }
   ],
   "source": [
    "a = np.array([[1,2,3],[4,5,6],[7,8,9]])\n",
    "b = np.array([[1,2],[3,4],[5,6]])\n",
    "\n",
    "det_a = np.linalg.det(a)\n",
    "print(det_a)"
   ]
  },
  {
   "cell_type": "code",
   "execution_count": 59,
   "id": "456f8c6f",
   "metadata": {},
   "outputs": [
    {
     "name": "stdout",
     "output_type": "stream",
     "text": [
      "[[ 0.0069159  -0.01582041  0.01031862]\n",
      " [-0.00555229  0.01133186  0.00358263]\n",
      " [ 0.01350985  0.01108565 -0.01042278]]\n"
     ]
    }
   ],
   "source": [
    "try:\n",
    "    inva = np.linalg.inv(matA)\n",
    "    print(inva)\n",
    "except np.linalg.LinAlgError:\n",
    "    print(\"matrix is singular and dose't have an inverse\")\n",
    "    "
   ]
  },
  {
   "cell_type": "code",
   "execution_count": 64,
   "id": "79c3965a",
   "metadata": {},
   "outputs": [
    {
     "name": "stdout",
     "output_type": "stream",
     "text": [
      "[ 1.61168440e+01 -1.11684397e+00 -1.30367773e-15]\n",
      "[[-0.23197069 -0.78583024  0.40824829]\n",
      " [-0.52532209 -0.08675134 -0.81649658]\n",
      " [-0.8186735   0.61232756  0.40824829]]\n"
     ]
    }
   ],
   "source": [
    "eigenvalues, eigenvectors = np.linalg.eig(a)\n",
    "print(eigenvalues)\n",
    "print(eigenvectors)"
   ]
  },
  {
   "cell_type": "code",
   "execution_count": 66,
   "id": "80d6eb37",
   "metadata": {},
   "outputs": [
    {
     "name": "stdout",
     "output_type": "stream",
     "text": [
      "[3. 1.]\n",
      "[[ 0.70710678 -0.70710678]\n",
      " [ 0.70710678  0.70710678]]\n"
     ]
    }
   ],
   "source": [
    "some1 = np.array([[2,1],[1,2]])\n",
    "eigenvalues, eigenvectors = np.linalg.eig(some1)\n",
    "\n",
    "print(eigenvalues)\n",
    "print(eigenvectors)"
   ]
  }
 ],
 "metadata": {
  "kernelspec": {
   "display_name": ".venv",
   "language": "python",
   "name": "python3"
  },
  "language_info": {
   "codemirror_mode": {
    "name": "ipython",
    "version": 3
   },
   "file_extension": ".py",
   "mimetype": "text/x-python",
   "name": "python",
   "nbconvert_exporter": "python",
   "pygments_lexer": "ipython3",
   "version": "3.13.1"
  }
 },
 "nbformat": 4,
 "nbformat_minor": 5
}
